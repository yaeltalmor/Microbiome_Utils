{
 "cells": [
  {
   "cell_type": "markdown",
   "id": "df843a06-833e-4d91-ad6a-f9df57ae4d9d",
   "metadata": {},
   "source": [
    "# Transformers with Pytorch Tutorial"
   ]
  },
  {
   "cell_type": "markdown",
   "id": "d8f94253-ae01-45f7-b585-7f32bb748232",
   "metadata": {},
   "source": [
    "## Imports"
   ]
  },
  {
   "cell_type": "code",
   "execution_count": 59,
   "id": "c9548f13-ed6b-476c-a169-7713da5d071f",
   "metadata": {},
   "outputs": [
    {
     "name": "stdout",
     "output_type": "stream",
     "text": [
      "False\n"
     ]
    }
   ],
   "source": [
    "import torch\n",
    "print(torch.cuda.is_available())\n"
   ]
  },
  {
   "cell_type": "code",
   "execution_count": 60,
   "id": "d3e08c92-bf66-46c1-8f82-6a46e2c5f176",
   "metadata": {},
   "outputs": [],
   "source": [
    "import torch.nn as nn\n",
    "import math\n",
    "import torch.nn.functional as F"
   ]
  },
  {
   "cell_type": "markdown",
   "id": "bfa37a94-c2c7-402f-b622-0707289ad853",
   "metadata": {},
   "source": [
    "## The building blocks of transformer models"
   ]
  },
  {
   "cell_type": "code",
   "execution_count": 61,
   "id": "dfb2d473-7030-4315-88bb-0e2e0977d317",
   "metadata": {
    "scrolled": true
   },
   "outputs": [
    {
     "name": "stdout",
     "output_type": "stream",
     "text": [
      "Transformer(\n",
      "  (encoder): TransformerEncoder(\n",
      "    (layers): ModuleList(\n",
      "      (0-5): 6 x TransformerEncoderLayer(\n",
      "        (self_attn): MultiheadAttention(\n",
      "          (out_proj): NonDynamicallyQuantizableLinear(in_features=512, out_features=512, bias=True)\n",
      "        )\n",
      "        (linear1): Linear(in_features=512, out_features=2048, bias=True)\n",
      "        (dropout): Dropout(p=0.1, inplace=False)\n",
      "        (linear2): Linear(in_features=2048, out_features=512, bias=True)\n",
      "        (norm1): LayerNorm((512,), eps=1e-05, elementwise_affine=True)\n",
      "        (norm2): LayerNorm((512,), eps=1e-05, elementwise_affine=True)\n",
      "        (dropout1): Dropout(p=0.1, inplace=False)\n",
      "        (dropout2): Dropout(p=0.1, inplace=False)\n",
      "      )\n",
      "    )\n",
      "    (norm): LayerNorm((512,), eps=1e-05, elementwise_affine=True)\n",
      "  )\n",
      "  (decoder): TransformerDecoder(\n",
      "    (layers): ModuleList(\n",
      "      (0-5): 6 x TransformerDecoderLayer(\n",
      "        (self_attn): MultiheadAttention(\n",
      "          (out_proj): NonDynamicallyQuantizableLinear(in_features=512, out_features=512, bias=True)\n",
      "        )\n",
      "        (multihead_attn): MultiheadAttention(\n",
      "          (out_proj): NonDynamicallyQuantizableLinear(in_features=512, out_features=512, bias=True)\n",
      "        )\n",
      "        (linear1): Linear(in_features=512, out_features=2048, bias=True)\n",
      "        (dropout): Dropout(p=0.1, inplace=False)\n",
      "        (linear2): Linear(in_features=2048, out_features=512, bias=True)\n",
      "        (norm1): LayerNorm((512,), eps=1e-05, elementwise_affine=True)\n",
      "        (norm2): LayerNorm((512,), eps=1e-05, elementwise_affine=True)\n",
      "        (norm3): LayerNorm((512,), eps=1e-05, elementwise_affine=True)\n",
      "        (dropout1): Dropout(p=0.1, inplace=False)\n",
      "        (dropout2): Dropout(p=0.1, inplace=False)\n",
      "        (dropout3): Dropout(p=0.1, inplace=False)\n",
      "      )\n",
      "    )\n",
      "    (norm): LayerNorm((512,), eps=1e-05, elementwise_affine=True)\n",
      "  )\n",
      ")\n"
     ]
    },
    {
     "name": "stderr",
     "output_type": "stream",
     "text": [
      "/opt/anaconda3/envs/sheeba/lib/python3.12/site-packages/torch/nn/modules/transformer.py:379: UserWarning: enable_nested_tensor is True, but self.use_nested_tensor is False because encoder_layer.self_attn.batch_first was not True(use batch_first for better inference performance)\n",
      "  warnings.warn(\n"
     ]
    }
   ],
   "source": [
    "# Define the transformer model\n",
    "model = nn.Transformer(\n",
    "    d_model=512,\n",
    "    nhead=8, \n",
    "    num_encoder_layers = 6,\n",
    "    num_decoder_layers = 6,\n",
    ")\n",
    "\n",
    "# Print the model object\n",
    "print(model)"
   ]
  },
  {
   "cell_type": "markdown",
   "id": "40abf353-9629-4613-8682-783ae64b59af",
   "metadata": {},
   "source": [
    "### Create the embedding layer"
   ]
  },
  {
   "cell_type": "code",
   "execution_count": 105,
   "id": "bbde7e57-4ba3-4254-82c2-c48f50baed54",
   "metadata": {},
   "outputs": [],
   "source": [
    "class InputEmbeddings(nn.Module):\n",
    "    def __init__(self, vocab_size: int, d_model: int)-> None:\n",
    "        super().__init__()\n",
    "        self.d_model = d_model # emb dimensions\n",
    "        self.vocab_size = vocab_size \n",
    "        self.embedding = nn.Embedding(vocab_size, d_model) # The embedding layer\n",
    "\n",
    "    def forward(self, x):\n",
    "        # Standard practice - scaling by square root of model dim to avoid token and positional embeddings to overwhlem each other. \n",
    "        return self.embedding(x) * math.sqrt(self.d_model) "
   ]
  },
  {
   "cell_type": "code",
   "execution_count": 106,
   "id": "6c5c513f-dfd9-48a2-a7ea-dc3c4e2dc2ba",
   "metadata": {},
   "outputs": [],
   "source": [
    "embedding_layer = InputEmbeddings(vocab_size=10000, d_model=512)"
   ]
  },
  {
   "cell_type": "code",
   "execution_count": 107,
   "id": "c12120dd-92ec-468a-b296-108b0155d22f",
   "metadata": {},
   "outputs": [
    {
     "data": {
      "text/plain": [
       "torch.Size([2, 4, 512])"
      ]
     },
     "execution_count": 107,
     "metadata": {},
     "output_type": "execute_result"
    }
   ],
   "source": [
    "embedded_output = embedding_layer(torch.tensor([[1,2,3,4],[5,6,7,8]])) # 2 batches of 4 token ids sequences each\n",
    "embedded_output.shape # right dimensionality of the embedded sequence"
   ]
  },
  {
   "cell_type": "code",
   "execution_count": 108,
   "id": "7931fd56-8025-4e43-af36-1f1e5187be8d",
   "metadata": {},
   "outputs": [
    {
     "data": {
      "text/plain": [
       "tensor([  9.4695,  54.8216, -47.8387, -26.3964,  -8.6042, -20.4541, -23.7473,\n",
       "          4.6616,   3.2406,  -2.5655], grad_fn=<SliceBackward0>)"
      ]
     },
     "execution_count": 108,
     "metadata": {},
     "output_type": "execute_result"
    }
   ],
   "source": [
    "embedded_output[0][0][:10]"
   ]
  },
  {
   "cell_type": "markdown",
   "id": "fe333385-2e99-4757-9b1a-11ba41d3347c",
   "metadata": {},
   "source": [
    "### Add the Positional encoding"
   ]
  },
  {
   "cell_type": "markdown",
   "id": "8b7f140b-4796-4e74-9914-b1235f8aeb0d",
   "metadata": {},
   "source": [
    "Positional encoding - encodes each token's position in the sequence into a positional embedding, and addes them into the token embeddings to capture positional information. "
   ]
  },
  {
   "cell_type": "code",
   "execution_count": 145,
   "id": "cd89c85d-1538-40c2-9c79-ea0d9b39dcca",
   "metadata": {},
   "outputs": [
    {
     "data": {
      "image/png": "[encoded data removed]",
      "text/plain": [
       "<Figure size 1200x400 with 2 Axes>"
      ]
     },
     "metadata": {},
     "output_type": "display_data"
    }
   ],
   "source": [
    "import torch, math\n",
    "import matplotlib.pyplot as plt\n",
    "\n",
    "max_seq_length = 50\n",
    "d_model = 8\n",
    "\n",
    "# Teacher's formula\n",
    "pos = torch.arange(max_seq_length).unsqueeze(1)\n",
    "teacher_enc = torch.sin(2 * math.pi * pos / max_seq_length)\n",
    "\n",
    "# Transformer formula\n",
    "position = torch.arange(max_seq_length, dtype=torch.float).unsqueeze(1)\n",
    "div_term = torch.exp(torch.arange(0, d_model, 2, dtype=torch.float) * -(math.log(10000.0) / d_model))\n",
    "pe = torch.zeros(max_seq_length, d_model)\n",
    "pe[:, 0::2] = torch.sin(position * div_term)\n",
    "pe[:, 1::2] = torch.cos(position * div_term)\n",
    "\n",
    "plt.figure(figsize=(12, 4))\n",
    "plt.subplot(1, 2, 1)\n",
    "plt.title(\"Teacher's single-frequency sin\")\n",
    "plt.plot(pos, teacher_enc)\n",
    "plt.subplot(1, 2, 2)\n",
    "plt.title(\"Transformer multi-frequency\")\n",
    "plt.plot(pe[:, :4])  # first 4 dims\n",
    "plt.show()\n"
   ]
  },
  {
   "cell_type": "code",
   "execution_count": 146,
   "id": "4713e9da-c1c4-4c07-817f-5be294c06029",
   "metadata": {},
   "outputs": [],
   "source": [
    "class PositionalEncoding(nn.Module):\n",
    "    def __init__(self, d_model, max_seq_length):\n",
    "        super().__init__()\n",
    "        # initialize the positional embeddings, pe, to zeros matrix shaped max_length, dim\n",
    "        pe = torch.zeros(max_seq_length, d_model) \n",
    "        # create a tensor of positions for each token in the sequence, \n",
    "        # which we'll transform using unsqueeze so it can be used in positional encoding calculations.\n",
    "        # In PyTorch, unsqueeze is used to add a dimension of size 1 to a tensor at a specified position (axis).\n",
    "        position = torch.arange(0, max_seq_length, dtype=torch.float).unsqueeze(1) \n",
    "\n",
    "        #  = tensor([[0.],[1.],[2.],[3.]])\n",
    "        div_term = torch.exp(torch.arange(0, d_model, 2, dtype=torch.float) * -(math.log(10000.0)/ d_model))\n",
    "\n",
    "        # Perform the sine and cosine calculations\n",
    "        # sin is applied to even vector values\n",
    "        pe[:, 0::2] = torch.sin(position * div_term)\n",
    "        # cos is applied to odd vector values\n",
    "        pe[:, 1::2] = torch.cos(position * div_term)\n",
    "\n",
    "        # register_buffer stores pe (with additional batch dimension) without making it a learnable parameter during training\n",
    "        self.register_buffer('pe', pe.unsqueeze(0))\n",
    "\n",
    "    def forward(self,x):\n",
    "        # add the positional embeddings to the input token embeddings, x\n",
    "        return x + self.pe[:, :x.size(1)]"
   ]
  },
  {
   "cell_type": "code",
   "execution_count": 110,
   "id": "78af571f-79e0-41c8-85ba-97bfbd78e72b",
   "metadata": {
    "scrolled": true
   },
   "outputs": [
    {
     "data": {
      "text/plain": [
       "tensor([[0.],\n",
       "        [1.],\n",
       "        [2.],\n",
       "        [3.]])"
      ]
     },
     "execution_count": 110,
     "metadata": {},
     "output_type": "execute_result"
    }
   ],
   "source": [
    "torch.arange(0, 4, dtype=torch.float).unsqueeze(1)"
   ]
  },
  {
   "cell_type": "code",
   "execution_count": 111,
   "id": "8a9f4f88-758d-4bf5-b9d6-09a5ed328164",
   "metadata": {},
   "outputs": [
    {
     "data": {
      "text/plain": [
       "tensor([[0., 0., 0.,  ..., 0., 0., 0.],\n",
       "        [0., 0., 0.,  ..., 0., 0., 0.],\n",
       "        [0., 0., 0.,  ..., 0., 0., 0.],\n",
       "        [0., 0., 0.,  ..., 0., 0., 0.]])"
      ]
     },
     "execution_count": 111,
     "metadata": {},
     "output_type": "execute_result"
    }
   ],
   "source": [
    "torch.zeros(4, 512)"
   ]
  },
  {
   "cell_type": "code",
   "execution_count": 112,
   "id": "2af7551b-b47b-46a8-b621-fce2fe654d80",
   "metadata": {},
   "outputs": [
    {
     "name": "stdout",
     "output_type": "stream",
     "text": [
      "torch.Size([2, 4, 512])\n",
      "tensor([  9.4695,  55.8216, -47.8387, -25.3964,  -8.6042, -19.4541, -23.7473,\n",
      "          5.6616,   3.2406,  -1.5655], grad_fn=<SliceBackward0>)\n"
     ]
    }
   ],
   "source": [
    "pos_encoding_layer = PositionalEncoding(d_model=512, max_seq_length=4)\n",
    "pos_encoded_output = pos_encoding_layer(embedded_output)\n",
    "print(pos_encoded_output.shape)\n",
    "print(pos_encoded_output[0][0][:10])"
   ]
  },
  {
   "cell_type": "markdown",
   "id": "6b00f908-f562-427d-ac6e-ead08985028b",
   "metadata": {},
   "source": [
    "### Self-attention"
   ]
  },
  {
   "cell_type": "code",
   "execution_count": 142,
   "id": "aa219f70-8e98-48d3-b6ba-20f4ac8b5d54",
   "metadata": {},
   "outputs": [],
   "source": [
    "class MultiHeadAttention(nn.Module):\n",
    "    def __init__(self, d_model, num_heads):\n",
    "        super().__init__()\n",
    "        assert d_model % num_heads == 0, \"d_model must be divisible by num_head.\"\n",
    "        self.num_heads = num_heads # nu. of attention heads\n",
    "        self.d_model = d_model\n",
    "        self.head_dim = d_model // num_heads # head_dim is the embedding dimensions each head will process.\n",
    "        # bias=False: no impact on performance while reducing complexity (only for inputs)\n",
    "        self.query_linear = nn.Linear(d_model, d_model, bias=False)  # W_Q\n",
    "        self.key_linear   = nn.Linear(d_model, d_model, bias=False)  # W_K\n",
    "        self.value_linear = nn.Linear(d_model, d_model, bias=False)  # W_V\n",
    "        self.output_linear = nn.Linear(d_model, d_model) \n",
    "\n",
    "    def split_heads(self, x, batch_size):\n",
    "        '''splits the query, key, and values tensors \n",
    "        between the heads and transforms them into shape: \n",
    "        batch_size, num_heads, seq_length, head_dim.'''\n",
    "        seq_length = x.size(1)\n",
    "        x = x.reshape(batch_size, seq_length, self.num_heads, self.head_dim)\n",
    "        return x.permute(0,2,1,3) \n",
    "\n",
    "    def compute_attention(self, query, key, value, mask=None):\n",
    "        '''torch.matmul calculates the dot product between the query and key matrices, \n",
    "        which requires transposing the key matrix, \n",
    "        and calculates the attention weights inside each head using softmax.'''\n",
    "        # query <batch, n_heads, n_seq, head_dim>\n",
    "        # key.transpose(-2,-1) <batch, n_heads, head_dim, n_seq>\n",
    "        # scores  <batch, n_heads, n_seq, n_seq> = attention weights between every pair of tokens for each head.\n",
    "        scores = torch.matmul(query, key.transpose(-2,-1)) / (self.head_dim ** 0.5)\n",
    "        if mask is not None:\n",
    "            scores = scores.masked_fill(mask == 0, float('-inf'))\n",
    "        attention_weights = F.softmax(scores, dim=-1) # keeps scores dim\n",
    "        # weighted sum of value vectors based on how much attention each query pays to each key,\n",
    "        # in parallel for every head and every batch.\n",
    "        return torch.matmul(attention_weights, value) #  <batch, n_heads, n_seq, head_dim>\n",
    "\n",
    "    def combine_heads(self, x, batch_size): \n",
    "        '''transforms the attention weights back into the original embedding shape.'''\n",
    "        x = x.permute(0,2,1,3).contiguous()   # <batch,n_seq, n_heads, head_dim>\n",
    "        return x.view(batch_size, -1, self.d_model)   # <batch, n_seq, d_model>\n",
    "\n",
    "    def forward(self, query, key, value, mask=None):\n",
    "        '''In the forward method, we split the query, key, and value tensors across the heads \n",
    "        and compute the attention weights. The weights are combined and passed through \n",
    "        the output layer to obtain the updated token embeddings projected into the original dimensionality.'''\n",
    "        batch_size = query.size(0)\n",
    "\n",
    "        # apply the attention weights on input to generate Q,K,V, and split them between the heads\n",
    "        query = self.split_heads(self.query_linear(query), batch_size) # Q=X*W_Q\n",
    "        key = self.split_heads(self.key_linear(key), batch_size) # K=X*W_K\n",
    "        value = self.split_heads(self.value_linear(value), batch_size) # V=X*W_V\n",
    "\n",
    "        attention_weights = self.compute_attention(query, key, value, mask)\n",
    "        \n",
    "        output = self.combine_heads(attention_weights, batch_size)\n",
    "        return self.output_linear(output) # concatenate and project head outputs\n"
   ]
  },
  {
   "cell_type": "code",
   "execution_count": 114,
   "id": "77909297-7771-46b7-a58b-7d3be7f4c251",
   "metadata": {
    "scrolled": true
   },
   "outputs": [],
   "source": [
    "# # Define attention parameters\n",
    "# d_model = 512\n",
    "# num_heads = 8\n",
    "\n",
    "# # Instantiate a MultiHeadAttention instance\n",
    "# multihead_attn = MultiHeadAttention(d_model, num_heads)\n",
    "\n",
    "# # Pass the query, key, and value matrices through the mechanism\n",
    "# output = multihead_attn(query, key, value)\n",
    "# print(output.shape)"
   ]
  },
  {
   "cell_type": "markdown",
   "id": "80c28dff-163e-4daa-9906-848fff075e38",
   "metadata": {},
   "source": [
    "## Building Transformer Architectures"
   ]
  },
  {
   "cell_type": "markdown",
   "id": "82cabcd7-d28e-4cdf-8eea-1009f84e8d9e",
   "metadata": {},
   "source": [
    "### Encoder Transformer"
   ]
  },
  {
   "cell_type": "code",
   "execution_count": 115,
   "id": "5041a6c5-4f9c-479c-8c88-182d8119c597",
   "metadata": {},
   "outputs": [],
   "source": [
    "class FeedForwardSubLayer(nn.Module):\n",
    "    '''\n",
    "    Our FeedForwardSublayer class contains two fully connected linear layers separated by a ReLU activation.\n",
    "    This is a position-wise feedforward network — it processes each position in the sequence independently \n",
    "    (same weights applied across all positions).\n",
    "    expanding each token's representation into a higher-dimensional space (d_ff) to capture richer patterns, \n",
    "    then projecting it back to d_model.\n",
    "    '''\n",
    "    def __init__(self, d_model, d_ff):\n",
    "        super().__init__()\n",
    "        # we use a dimension d_ff between linear layers, to further facilitate capturing complex patterns.\n",
    "        self.fc1 = nn.Linear(d_model, d_ff)\n",
    "        self.fc2 = nn.Linear(d_ff, d_model)\n",
    "        self.relu = nn.ReLU()\n",
    "\n",
    "    def forward(self, x):\n",
    "        # applies the forward pass to the attention mechanism outputs, passing them through the layers.\n",
    "        return self.fc2(self.relu(self.fc1(x)))\n"
   ]
  },
  {
   "cell_type": "code",
   "execution_count": 116,
   "id": "c66abf17-d02a-4e27-a5ce-6145cf7e7b75",
   "metadata": {},
   "outputs": [],
   "source": [
    "class EncoderLayer(nn.Module):\n",
    "    def __init__(self, d_model, num_heads, d_ff, dropout):\n",
    "        super().__init__()\n",
    "        self.self_attn = MultiHeadAttention(d_model, num_heads)\n",
    "        self.ff_sublayer = FeedForwardSubLayer(d_model, d_ff)\n",
    "        # layer normalizations for keeping the scales and variances of \n",
    "        # input embeddings consistent before and after the feed forward layer.\n",
    "        self.norm1 = nn.LayerNorm(d_model)\n",
    "        self.norm2 = nn.LayerNorm(d_model)\n",
    "        # Dropouts are also used to regularize and stabilize training.\n",
    "        self.dropout = nn.Dropout(dropout)\n",
    "\n",
    "    def forward(self, x, src_mask):\n",
    "        '''the input embeddings are passed as the query, key, and value matrices, \n",
    "        and a mask is used to prevent the processing of padding tokens in the input sequence.'''\n",
    "        attn_output = self.self_attn(x, x, x, src_mask)\n",
    "        x = self.norm1(x + self.dropout(attn_output))\n",
    "        ff_output = self.ff_sublayer(x)\n",
    "        x = self.norm2(x + self.dropout(ff_output))\n",
    "        \n",
    "        return x"
   ]
  },
  {
   "cell_type": "code",
   "execution_count": 117,
   "id": "60d778d5-9fac-47a5-85ef-c97a87f829a5",
   "metadata": {},
   "outputs": [],
   "source": [
    "class TransformerEncoder(nn.Module):\n",
    "    def __init__(self, vocab_size, d_model, num_layers, num_heads, d_ff, dropout, max_seq_length):\n",
    "        super().__init__()\n",
    "        self.embedding = InputEmbeddings(vocab_size, d_model)\n",
    "        self.positional_encoding = PositionalEncoding(d_model, max_seq_length)\n",
    "        self.layers = nn.ModuleList(\n",
    "            [EncoderLayer(d_model, num_heads, d_ff, dropout) for _ in range(num_layers)]\n",
    "        )\n",
    "\n",
    "    def forward(self, x, src_mask):\n",
    "        '''embeds the inputs, performs positional encoding, \n",
    "        and iterates through the encoder layers, applying the padding mask.'''\n",
    "        x = self.embedding(x)\n",
    "        x = self.positional_encoding(x)\n",
    "        for layer in self.layers:\n",
    "            x = layer(x, src_mask)\n",
    "        return x\n",
    "        "
   ]
  },
  {
   "cell_type": "code",
   "execution_count": 118,
   "id": "9dc0ffe8-96c5-4a88-9ed7-f01263adb25a",
   "metadata": {},
   "outputs": [],
   "source": [
    "class ClassifierHead(nn.Module):\n",
    "    '''Tasks: text classification, sentiment analysis, NER, extractive QA, etc.\n",
    "    fc: fully connected linear layer - transforms encoder hidden states into num_classes class probabilites.\n",
    "    '''\n",
    "    def __init__(self, d_model, nun_classes):\n",
    "        super().__init__()\n",
    "        self.fc = nn.Linear(d_model, num_classes)\n",
    "\n",
    "    def forward(self, x):\n",
    "        logits = self.fc(x)\n",
    "        return F.log_softmax(logits, dim=-1)"
   ]
  },
  {
   "cell_type": "code",
   "execution_count": 119,
   "id": "18c2e144-a906-42e5-9c1b-e6c46dd14587",
   "metadata": {},
   "outputs": [],
   "source": [
    "class RegressionHead(nn.Module):\n",
    "    '''A regression head has a linear layer with an output dimension equal to the number of target regression outputs. \n",
    "    Tasks: estimate text readability, language complexity, etc.\n",
    "    output_dim is 1 when predicting a single numerical value'''\n",
    "    def __init__(self, d_model, output_dim):\n",
    "        super().__init__()\n",
    "        self.fc = nn.Linear(d_model, output_dim)\n",
    "\n",
    "    def forward(self, x):\n",
    "        return self.fc(x)"
   ]
  },
  {
   "cell_type": "code",
   "execution_count": 120,
   "id": "81bfe8ce-0628-423f-a9e1-4433847ed55c",
   "metadata": {},
   "outputs": [
    {
     "name": "stdout",
     "output_type": "stream",
     "text": [
      "Classification outputs for a batch of 4 sequences:\n",
      "tensor([[[-2.3901, -2.6926, -2.8686, -2.3044, -2.5401, -1.1451, -3.3319,\n",
      "          -1.9069, -2.6089, -3.5356],\n",
      "         [-2.5802, -1.9578, -3.2475, -2.1674, -3.3087, -1.8631, -2.4466,\n",
      "          -2.0474, -1.9959, -2.4483],\n",
      "         [-2.0974, -2.8207, -3.3400, -3.0294, -3.4434, -1.5044, -2.9731,\n",
      "          -2.1558, -1.4135, -2.6657],\n",
      "         [-2.0082, -2.5286, -2.5382, -3.2403, -2.3510, -1.7922, -2.9124,\n",
      "          -2.3266, -1.7091, -2.6179]],\n",
      "\n",
      "        [[-2.9532, -2.5957, -3.2623, -2.3278, -2.1671, -2.3606, -2.3577,\n",
      "          -2.1535, -1.3048, -3.0662],\n",
      "         [-2.3064, -2.6154, -3.0634, -2.1456, -2.3987, -1.9979, -2.8601,\n",
      "          -2.4897, -1.6556, -2.2456],\n",
      "         [-2.5417, -2.0297, -3.4282, -1.9043, -2.9392, -1.9738, -1.8172,\n",
      "          -3.4897, -1.8905, -2.6215],\n",
      "         [-2.0682, -2.2871, -3.0988, -2.1068, -2.7996, -3.1513, -1.9047,\n",
      "          -2.7856, -1.4737, -2.7798]]], grad_fn=<LogSoftmaxBackward0>)\n",
      "Encoder output shape: torch.Size([2, 4, 512])\n",
      "Classification head output shape: torch.Size([2, 4, 10])\n"
     ]
    }
   ],
   "source": [
    "# USAGE EXAMPLE\n",
    "vocab_size = 10000\n",
    "d_model = 512\n",
    "num_layers= 6\n",
    "num_heads= 8\n",
    "d_ff= 2048\n",
    "dropout= 0.1\n",
    "seq_length= 4\n",
    "num_classes = 10  # e.g., classification task with 10 labels\n",
    "\n",
    "# Instantiate the encoder transformer's body and head\n",
    "encoder = TransformerEncoder(vocab_size, d_model, num_layers, num_heads, d_ff, dropout, seq_length)\n",
    "classifier = ClassifierHead(d_model, num_classes)\n",
    "\n",
    "input_sequence = torch.tensor([\n",
    "    [1, 2, 3, 4],\n",
    "    [5, 6, 7, 8]\n",
    "], dtype=torch.long)\n",
    "# For simplicity, no masking applied here\n",
    "src_mask = None\n",
    "\n",
    "# Complete the forward pass \n",
    "output = encoder(input_sequence, src_mask) # shape: [2, 4, 512]\n",
    "classification = classifier(output)        # shape: [2, 10]\n",
    "\n",
    "print(f\"Classification outputs for a batch of {seq_length} sequences:\\n{classification}\")\n",
    "print(f\"Encoder output shape: {output.shape}\\nClassification head output shape: {classification.shape}\")"
   ]
  },
  {
   "cell_type": "markdown",
   "id": "3495f6fd-a4eb-4c4f-9442-0d62998fcaa8",
   "metadata": {},
   "source": [
    "### Decoder Transformer"
   ]
  },
  {
   "cell_type": "markdown",
   "id": "e49a7c5d-8eb3-4b63-86a1-3123684a94dd",
   "metadata": {},
   "source": [
    "Creating causal attention mask with 0's above diagonal, to avoid attention with prior tokens:"
   ]
  },
  {
   "cell_type": "code",
   "execution_count": 121,
   "id": "4b9c1b8b-ddf1-40a5-af93-54cc852e736f",
   "metadata": {},
   "outputs": [],
   "source": [
    "tgt_mask = (1 - torch.triu(torch.ones(1, seq_length, seq_length), diagonal=1)).bool()"
   ]
  },
  {
   "cell_type": "code",
   "execution_count": 122,
   "id": "a9558b6d-c042-41ff-a881-b254ffe623c8",
   "metadata": {},
   "outputs": [
    {
     "data": {
      "text/plain": [
       "tensor([[[ True, False, False, False],\n",
       "         [ True,  True, False, False],\n",
       "         [ True,  True,  True, False],\n",
       "         [ True,  True,  True,  True]]])"
      ]
     },
     "execution_count": 122,
     "metadata": {},
     "output_type": "execute_result"
    }
   ],
   "source": [
    "tgt_mask"
   ]
  },
  {
   "cell_type": "code",
   "execution_count": 123,
   "id": "388f834a-2894-47b1-ba8e-6ec259669a87",
   "metadata": {},
   "outputs": [],
   "source": [
    "class DecoderLayer(nn.Module):\n",
    "    '''The decoder layer is the same as the encoder layer we created before: \n",
    "    multi-head attention followed by a feed-forward sublayer with layer normalizations and dropouts before and after. \n",
    "    The only difference is the padding mask has been replaced with the causal attention mask in the forward pass.'''\n",
    "    def __init__(self, d_model, num_heads, d_ff, dropout):\n",
    "        super().__init__()\n",
    "        self.self_attn = MultiHeadAttention(d_model, num_heads)\n",
    "        self.ff_sublayer = FeedForwardSubLayer(d_model, d_ff)\n",
    "        self.norm1 = nn.LayerNorm(d_model)\n",
    "        self.norm2 = nn.LayerNorm(d_model)\n",
    "        self.dropout = nn.Dropout(dropout)\n",
    "\n",
    "    def forward(self, x, tgt_mask):\n",
    "        attn_output = self.self_attn(x, x, x, tgt_mask)\n",
    "        x = self.norm1(x + self.dropout(attn_output))\n",
    "        ff_output = self.ff_sublayer(x)\n",
    "        x = self.norm2(x + self.dropout(ff_output))\n",
    "        return x"
   ]
  },
  {
   "cell_type": "code",
   "execution_count": 124,
   "id": "10f09448-a01d-49f5-90af-cf26107948a9",
   "metadata": {},
   "outputs": [],
   "source": [
    "class TransformerDecoder(nn.Module):\n",
    "    def __init__(self, vocab_size, d_model, num_layers, num_heads, d_ff, dropout, max_seq_length):\n",
    "        super(TransformerDecoder, self).__init__()\n",
    "        self.embedding = InputEmbeddings(vocab_size, d_model)\n",
    "        self.positional_encoding = PositionalEncoding(d_model, max_seq_length)\n",
    "        self.layers = nn.ModuleList(\n",
    "            [DecoderLayer(d_model, num_heads, d_ff, dropout) for _ in range(num_layers)]\n",
    "        )\n",
    "        # Adding head inside the transformer body class - now resulting in \n",
    "        # vocab_size last layer since er predict next token and not categorical/numerical target\n",
    "        self.fc = nn.Linear(d_model, vocab_size) \n",
    "\n",
    "    def forward(self, x, tgt_mask):\n",
    "        '''embeds the inputs, performs positional encoding, \n",
    "        and iterates through the encoder layers, applying the padding mask.'''\n",
    "        x = self.embedding(x)\n",
    "        x = self.positional_encoding(x)\n",
    "        for layer in self.layers:\n",
    "            x = layer(x, tgt_mask) # different mask\n",
    "        # We add a final linear layer with output size equal to the vocabulary size, \n",
    "        x = self.fc(x)\n",
    "        # and softmax activation to the forward method, to project hidden states into word likelihoods.\n",
    "        return F.log_softmax(x,dim=-1)\n",
    "        "
   ]
  },
  {
   "cell_type": "code",
   "execution_count": 125,
   "id": "8d88ed80-7d19-4406-8d09-d145a83a2c2c",
   "metadata": {},
   "outputs": [],
   "source": [
    "decoder = TransformerDecoder(vocab_size, d_model, num_layers, num_heads, d_ff, dropout, max_seq_length=seq_length)\n",
    "output = decoder(input_sequence, tgt_mask)"
   ]
  },
  {
   "cell_type": "code",
   "execution_count": 126,
   "id": "32dfba28-97be-4cd0-a389-5d0aa94dabd9",
   "metadata": {},
   "outputs": [
    {
     "data": {
      "text/plain": [
       "tensor([[[ -9.7434,  -9.2007,  -9.9746,  ...,  -8.5334,  -9.0426,  -8.7422],\n",
       "         [ -9.9500,  -9.0705,  -9.9139,  ...,  -9.3242,  -8.4282, -10.4693],\n",
       "         [ -9.3823,  -8.1173,  -9.2060,  ...,  -9.4485,  -9.5681,  -9.1661],\n",
       "         [ -9.1910,  -8.3865,  -9.6188,  ...,  -7.9157,  -8.6745,  -8.7374]],\n",
       "\n",
       "        [[ -9.5315, -10.3837,  -9.5208,  ...,  -9.6847,  -9.6756,  -8.8704],\n",
       "         [ -9.4618,  -9.4326,  -9.4051,  ...,  -9.9799,  -9.1274,  -8.7374],\n",
       "         [-10.0098, -10.2983,  -8.6675,  ..., -10.0934,  -9.6771, -10.0858],\n",
       "         [ -9.6551,  -9.4734,  -9.3087,  ..., -10.3676,  -9.9467,  -9.0301]]],\n",
       "       grad_fn=<LogSoftmaxBackward0>)"
      ]
     },
     "execution_count": 126,
     "metadata": {},
     "output_type": "execute_result"
    }
   ],
   "source": [
    "output"
   ]
  },
  {
   "cell_type": "code",
   "execution_count": 127,
   "id": "d5f82ff8-84c2-4628-8e02-6af6d322a75e",
   "metadata": {},
   "outputs": [
    {
     "data": {
      "text/plain": [
       "(torch.Size([2, 4, 10000]), 10000)"
      ]
     },
     "execution_count": 127,
     "metadata": {},
     "output_type": "execute_result"
    }
   ],
   "source": [
    "output.shape, vocab_size"
   ]
  },
  {
   "cell_type": "markdown",
   "id": "f1adb174-fc70-403e-98e3-cec60a07dbc4",
   "metadata": {},
   "source": [
    "### Encoder-decoder transformers"
   ]
  },
  {
   "cell_type": "code",
   "execution_count": 128,
   "id": "a53e1b56-6519-4314-a176-09f803eccbff",
   "metadata": {},
   "outputs": [],
   "source": [
    "class DecoderLayer(nn.Module):\n",
    "    '''The decoder layer is the same as the decoder-only layer we created before: \n",
    "    multi-head attention followed by a feed-forward sublayer with layer normalizations and dropouts before and after. \n",
    "    The only difference is additional cross-attention layer applied after self-attention on the decoder input.'''\n",
    "    def __init__(self, d_model, num_heads, d_ff, dropout):\n",
    "        super().__init__()\n",
    "        self.self_attn = MultiHeadAttention(d_model, num_heads)\n",
    "        self.cross_attn = MultiHeadAttention(d_model, num_heads) # Added for encoder-decoder model\n",
    "        self.ff_sublayer = FeedForwardSubLayer(d_model, d_ff)\n",
    "        self.norm1 = nn.LayerNorm(d_model)\n",
    "        self.norm2 = nn.LayerNorm(d_model)\n",
    "        self.norm3 = nn.LayerNorm(d_model) # Added for encoder-decoder model\n",
    "        self.dropout = nn.Dropout(dropout)\n",
    "\n",
    "    def forward(self, x, y, tgt_mask, cross_mask):\n",
    "        '''the variable y in this method represents the encoder outputs, \n",
    "        passed as key and value arguments to the cross-attention mechanism. \n",
    "        Meanwhile, the decoder flow, x, associated with generating the target sequence, \n",
    "        now only acts as the attention query. \n",
    "        After cross-attention in the forward pass, \n",
    "        we pass through the feed-forward sublayers as normal.\n",
    "        The cross-attention mask, can be the same padding mask used in the encoder. '''\n",
    "        self_attn_output = self.self_attn(x, x, x, tgt_mask)\n",
    "        x = self.norm1(x + self.dropout(self_attn_output))\n",
    "        \n",
    "        cross_attn_output = self.self_attn(x, y, y, cross_mask)\n",
    "        x = self.norm2(x + self.dropout(cross_attn_output))\n",
    "        \n",
    "        ff_output = self.ff_sublayer(x)\n",
    "        x = self.norm3(x + self.dropout(ff_output))\n",
    "        return x"
   ]
  },
  {
   "cell_type": "code",
   "execution_count": 129,
   "id": "aa7d3444-30f0-463f-888c-e2fb8d46001f",
   "metadata": {},
   "outputs": [],
   "source": [
    "class TransformerDecoder(nn.Module):\n",
    "    def __init__(self, vocab_size, d_model, num_layers, num_heads, d_ff, dropout, max_seq_length):\n",
    "        super(TransformerDecoder, self).__init__()\n",
    "        self.embedding = InputEmbeddings(vocab_size, d_model)\n",
    "        self.positional_encoding = PositionalEncoding(d_model, max_seq_length)\n",
    "        self.layers = nn.ModuleList(\n",
    "            [DecoderLayer(d_model, num_heads, d_ff, dropout) for _ in range(num_layers)]\n",
    "        )\n",
    "        # Adding head inside the transformer body class - now resulting in \n",
    "        # vocab_size last layer since er predict next token and not categorical/numerical target\n",
    "        self.fc = nn.Linear(d_model, vocab_size) \n",
    "\n",
    "    def forward(self, x, y, tgt_mask, cross_mask):\n",
    "        '''embeds the inputs, performs positional encoding, \n",
    "        and iterates through the encoder layers, applying the padding mask.'''\n",
    "        x = self.embedding(x)\n",
    "        x = self.positional_encoding(x)\n",
    "        for layer in self.layers:\n",
    "            x = layer(x, y, tgt_mask, cross_mask) # changed signature to support cross-attention\n",
    "        # We add a final linear layer with output size equal to the vocabulary size, \n",
    "        x = self.fc(x)\n",
    "        # and softmax activation to the forward method, to project hidden states into word likelihoods.\n",
    "        return F.log_softmax(x,dim=-1)\n",
    "        "
   ]
  },
  {
   "cell_type": "markdown",
   "id": "514553b1-05fc-4edb-9429-00003fad2adb",
   "metadata": {},
   "source": [
    "### Full Transformer Model"
   ]
  },
  {
   "cell_type": "code",
   "execution_count": 138,
   "id": "cea5363e-f854-4753-90b8-1480c59291d7",
   "metadata": {},
   "outputs": [],
   "source": [
    "class Transformer(nn.Module):\n",
    "    def __init__(self, vocab_size, d_model, num_layers, \n",
    "                 num_heads, d_ff, max_seq_len, dropout):\n",
    "        super().__init__()\n",
    "\n",
    "        self.encoder = TransformerEncoder(vocab_size, d_model, num_layers, num_heads, d_ff, dropout, max_seq_len)\n",
    "        self.decoder = TransformerDecoder(vocab_size, d_model,  num_layers, num_heads, d_ff, dropout, max_seq_len)\n",
    "\n",
    "    def forward(self, x, src_mask, tgt_mask, cross_mask):\n",
    "        encoder_output = self.encoder(x, src_mask)\n",
    "        decoder_output = self.decoder(x, encoder_output, tgt_mask, cross_mask)\n",
    "        return decoder_output"
   ]
  },
  {
   "cell_type": "code",
   "execution_count": 139,
   "id": "aca262b1-7676-43ec-adf7-cbeb0f4d5f8f",
   "metadata": {},
   "outputs": [],
   "source": [
    "# USAGE EXAMPLE\n",
    "vocab_size = 10000\n",
    "d_model = 512\n",
    "num_layers= 6\n",
    "num_heads= 8\n",
    "d_ff= 2048\n",
    "dropout= 0.1\n",
    "seq_length= 4\n",
    "num_classes = 10  # e.g., classification task with 10 labels\n",
    "\n",
    "input_sequence = torch.tensor([\n",
    "    [1, 2, 3, 4],\n",
    "    [5, 6, 7, 8]\n",
    "], dtype=torch.long)"
   ]
  },
  {
   "cell_type": "code",
   "execution_count": 143,
   "id": "b8358fcf-3859-4ac7-abe3-747cfef1666b",
   "metadata": {},
   "outputs": [
    {
     "name": "stdout",
     "output_type": "stream",
     "text": [
      "tensor([[[ -9.7168, -10.3412,  -9.7835,  ...,  -9.0761,  -9.8879,  -9.4361],\n",
      "         [ -9.6289,  -9.1970,  -8.8909,  ...,  -8.7616, -10.1614,  -8.8340],\n",
      "         [ -9.2915,  -9.3492,  -9.1200,  ...,  -8.3148,  -9.4885,  -9.4241],\n",
      "         [ -9.6916,  -9.2137,  -8.2546,  ...,  -8.6205, -10.0388,  -9.3823]],\n",
      "\n",
      "        [[ -9.4655,  -9.7628, -10.9422,  ...,  -8.3187,  -8.8033,  -9.7870],\n",
      "         [ -9.8233, -10.2744,  -9.9350,  ...,  -8.4249,  -9.4260,  -9.0659],\n",
      "         [-10.3569,  -9.6162,  -9.9345,  ...,  -9.0474,  -8.5682,  -9.6690],\n",
      "         [ -9.2151,  -8.7983, -10.2802,  ...,  -9.7136,  -9.0089,  -9.3262]]],\n",
      "       grad_fn=<LogSoftmaxBackward0>)\n",
      "torch.Size([2, 4, 10000])\n"
     ]
    }
   ],
   "source": [
    "src_mask = None \n",
    "cross_mask = None \n",
    "tgt_mask = (1 - torch.triu(torch.ones(1, seq_length, seq_length), diagonal=1)).bool()\n",
    "\n",
    "# Instantiate and call the transformer\n",
    "transformer = Transformer(vocab_size, d_model, num_layers, num_heads, d_ff, seq_length, dropout)\n",
    "outputs = transformer(input_sequence, src_mask, tgt_mask, cross_mask)\n",
    "print(outputs)\n",
    "print(outputs.shape)"
   ]
  },
  {
   "cell_type": "code",
   "execution_count": null,
   "id": "863c3bf6-e24f-4689-babb-66ca1d72ea86",
   "metadata": {},
   "outputs": [],
   "source": []
  }
 ],
 "metadata": {
  "kernelspec": {
   "display_name": "Python 3 (ipykernel)",
   "language": "python",
   "name": "python3"
  },
  "language_info": {
   "codemirror_mode": {
    "name": "ipython",
    "version": 3
   },
   "file_extension": ".py",
   "mimetype": "text/x-python",
   "name": "python",
   "nbconvert_exporter": "python",
   "pygments_lexer": "ipython3",
   "version": "3.12.2"
  }
 },
 "nbformat": 4,
 "nbformat_minor": 5
}
